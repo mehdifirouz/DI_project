{
 "cells": [
  {
   "attachments": {},
   "cell_type": "markdown",
   "metadata": {},
   "source": [
    "# Proposal for Data Incubator\n",
    "\n",
    "## Project name\n",
    "\n",
    "Digital Slide Imaging Characterization for Bio Repository Management\n",
    "\n",
    "## Development and Advocate\n",
    "\n",
    "* Mehdi Firouznia, University of Nebrasak - Lincoln \n",
    "\n",
    "## Project goals, scope and functionality\n",
    "\n",
    "### Problem\n",
    "The process to identify multiple biomarkers expressed in identical cells and cellular nuclei within a single specimen is currently performed manually and is not conducive for computerized biorepository management or data based queries. \n",
    "This proposal seeks to improve the process of multiple biomarker identification of tissue specimens at the cellular level through the use of automated digital whole slide imaging (WSI) techniques.\n",
    "The scope of this proposal is to evaluate existing algorithms for automated detection and classification of pancreas cancer metastases in whole-slide images. \n",
    "\n",
    "\n",
    "###  Method\n",
    "In clinical pathology, human tissue is examined through a microscope by a pathologist. Tissue samples are most often collected during surgery or via biopsy, and need to be further processed in order to make glass slides which hold histological sections of just a few micrometers thick.\n",
    "\n",
    "Tissue processing includes fixation, embedding, cutting and staining. During the preparation of histological slides, different stains can be used for various purposes. The hematoxylin and eosin (H&E) stain however, is most widely used; it induces sharp blue/pink contrasts across various (sub)cellular structures and it is applied across many different tissue types.\n",
    "\n",
    "Whole-slide scanners are used to digitise glass slides at high resolution (up to 160nm per pixel). The availability of whole-slide images (WSI) has garnered the interest of the medical image analysis community. Whole-slide images are generally stored in a multi-resolution pyramid structure. Image files contain multiple down-sampled versions of the original image. Each image in the pyramid is stored as a series of tiles, to facilitate rapid retrieval of subregions of the image.\n",
    "\n",
    "### Goals\n",
    "A typical whole-slide image is approximately 200000 x 100000 pixels on the highest resolution level with 3 byte RGB pixel format. This means 55.88GB of uncompressed pixel data from a single level. \n",
    "1. The **first challenge** is to handle such big amount of data via efficient comperession techniques. \n",
    "2. The **second challenge** is the transforamtion of image frame during cutting and staining process. **Image registration** is a technique to deal with this problem. The goal of registration is to estimate the transformation which maps points from one image to the corresponding points in another image. The transformation estimated via registration is said to map points from the fixed image coordinate system to the moving image coordinate system.\n",
    "\n",
    " \n",
    "\n",
    "2. The **third challenge** is to use classification and patern recognition techniques to classify a set of large image contents and find the pancreas cancer metastases in whole-slide images. \n",
    "\n",
    "\n",
    "### Preliminary results\n",
    "Figure 1 summarize the metadata dimensions required to accurately register and place image annotations onto newly created images from previously annonated slides.\n",
    "\n",
    "\n",
    "MATLAB embedded registration and classification functions wrer used on compressed images to evaluate conventional learning techniques performance. For example in figure 2, vector quantization method outcome for 23 registered imges is shown. The red regions are the classified as cancer metastases regions. The results need to be improvoed since the outcome is not quite accurate in terms of finding all regions of interests.\n",
    "\n",
    "## References\n",
    "\n",
    "https://camelyon17.grand-challenge.org/Background/\n",
    "\n",
    "https://simpleitk.readthedocs.io/\n",
    "\n"
   ]
  }
 ],
 "metadata": {
  "kernelspec": {
   "display_name": "Python 3",
   "language": "python",
   "name": "python3"
  }
 },
 "nbformat": 4,
 "nbformat_minor": 2
}
